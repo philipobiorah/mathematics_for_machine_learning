{
 "cells": [
  {
   "cell_type": "markdown",
   "metadata": {},
   "source": [
    "# **Practical Use Case: Scalar Multiplication of a Vector**\n",
    "\n",
    "## **1. Physics Example: Scaling Velocity in Motion**\n",
    "### **Scenario: Changing the Speed of a Moving Object**\n",
    "Imagine a car moving in a specific direction with a velocity vector:\n",
    "\n",
    "**v = (10, 5) m/s**\n",
    "\n",
    "where:\n",
    "- `10 m/s` is the velocity in the **x-direction** (eastward),\n",
    "- `5 m/s` is the velocity in the **y-direction** (northward).\n",
    "\n",
    "Now, suppose the car **accelerates uniformly**, doubling its speed while keeping the same direction. This can be modeled using **scalar multiplication**.\n",
    "\n",
    "### **Applying Scalar Multiplication**\n",
    "If the car's speed doubles (**k = 2**), the new velocity vector is:\n",
    "\n",
    "**v' = 2 × (10, 5)**  \n",
    "**= (20, 10)**\n",
    "\n",
    "### **Interpretation**\n",
    "- The car is now moving at **20 m/s eastward** and **10 m/s northward**.\n",
    "- If the scalar were **k = -1**, it would mean the car **reversed direction** with the same speed.\n",
    "\n",
    "---\n",
    "\n",
    "## **2. Computer Graphics Example: Image Scaling**\n",
    "In **computer graphics**, vectors represent positions and transformations. If an image or object in 3D space needs to **scale up** or **shrink**, we apply **scalar multiplication** to each vertex coordinate.\n",
    "\n",
    "For instance, if an object’s coordinates are:\n",
    "\n",
    "**P = (3, 4, 2)**\n",
    "\n",
    "And we **scale it down** by a factor of **0.5**:\n",
    "\n",
    "**P' = 0.5 × (3, 4, 2) = (1.5, 2, 1)**\n",
    "\n",
    "### **Why is this useful?**\n",
    "- In **game development**, resizing characters or objects efficiently.\n",
    "- In **3D modeling**, transforming objects without changing proportions.\n",
    "- In **simulations**, adjusting object sizes dynamically based on conditions.\n",
    "\n",
    "---\n",
    "\n",
    "### **Your Turn!**\n",
    "Try scaling these vectors and check the results:\n",
    "1. If **v = (-4, 6, 2)** and **k = 3**, what is the new vector?\n",
    "2. If **P = (5, -3, 8)** and **k = 0.2**, find the scaled coordinates.\n",
    "\n",
    "Would you like a Python script to test these? 🚀\n"
   ]
  }
 ],
 "metadata": {
  "language_info": {
   "name": "python"
  }
 },
 "nbformat": 4,
 "nbformat_minor": 2
}
